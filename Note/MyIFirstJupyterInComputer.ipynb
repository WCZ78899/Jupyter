{
 "cells": [
  {
   "cell_type": "markdown",
   "metadata": {},
   "source": [
    "# 安装Anacoda自带python "
   ]
  },
  {
   "cell_type": "markdown",
   "metadata": {},
   "source": [
    "## 0. 从清华的资源平台下载，速度较快"
   ]
  },
  {
   "cell_type": "markdown",
   "metadata": {
    "collapsed": true
   },
   "source": [
    "## 1.设置Python  环境变量：D:\\A_ProgramFilesByWcz\\Anaconda3"
   ]
  },
  {
   "cell_type": "markdown",
   "metadata": {},
   "source": [
    "## 2.设置Jupyter 环境变量：D:\\A_ProgramFilesByWcz\\Anaconda3\\Scripts"
   ]
  },
  {
   "cell_type": "markdown",
   "metadata": {},
   "source": [
    "## 3.设置Jupyter 相关变量：C:\\Users\\WCZ\\.jupyter\\jupyter_notebook_config.py"
   ]
  },
  {
   "cell_type": "markdown",
   "metadata": {},
   "source": [
    "###  1) 修改开始工目录:"
   ]
  },
  {
   "cell_type": "markdown",
   "metadata": {},
   "source": [
    "The directory to use for notebooks and kernels."
   ]
  },
  {
   "cell_type": "markdown",
   "metadata": {},
   "source": [
    "c.NotebookApp.notebook_dir = u'D:\\WCZ\\Documents\\JupyterNoteBookWorkSpace'"
   ]
  },
  {
   "cell_type": "markdown",
   "metadata": {},
   "source": [
    "# 配置SublimeText"
   ]
  },
  {
   "cell_type": "markdown",
   "metadata": {},
   "source": [
    "1.安装.exe"
   ]
  },
  {
   "cell_type": "markdown",
   "metadata": {},
   "source": [
    "2.序列码激活"
   ]
  },
  {
   "cell_type": "markdown",
   "metadata": {},
   "source": [
    "3.安装 Package Control"
   ]
  },
  {
   "cell_type": "markdown",
   "metadata": {},
   "source": [
    "4.安装中文语言包：Control：install package ChineseLocal.."
   ]
  },
  {
   "cell_type": "markdown",
   "metadata": {},
   "source": [
    "5.Tools---Build System--New Build System"
   ]
  },
  {
   "cell_type": "markdown",
   "metadata": {},
   "source": [
    "\"encoding\": \"utf-8\",  \n",
    "\"working_dir\": \"$file_path\",  \n",
    "\"shell_cmd\": \"C:\\\\Users\\\\Administrator\\\\AppData\\\\Local\\\\Programs\\\\Python\\\\Python35-32\\\\python.exe -u \\\"$file\\\"\",  \n",
    "\"file_regex\": \"^[ ]*File \\\"(...*?)\\\", line ([0-9]*)\",  \n",
    "\"selector\": \"source.python\" "
   ]
  },
  {
   "cell_type": "markdown",
   "metadata": {},
   "source": [
    "# Jupyter使用"
   ]
  },
  {
   "cell_type": "markdown",
   "metadata": {},
   "source": [
    "我们再来看看 Markdown 单元格。虽然它的类型是 markdown，但是这类单元格也接受 HTML 代码。这样，你就可以在单元格类实现更加丰富的样式，添加图片，等等。例如，如果想在 notebook 中添加 Jupyter 的 logo，将其大小设置为 100px x 100px，并且放置在单元格左侧，可以这样编写：\n",
    "\n",
    "<img src=\"../123/Jupyter_01_00.png\">\n",
    "\n",
    "计算该单元格之后，会出现这样的结果："
   ]
  },
  {
   "attachments": {
    "Jupyter_01_00.png": {
     "image/png": "[encoded data removed]"
    }
   },
   "cell_type": "markdown",
   "metadata": {},
   "source": [
    "![Jupyter_01_00.png](attachment:Jupyter_01_00.png)<img src=\"Jupyter.png\" >"
   ]
  },
  {
   "attachments": {
    "Jupyter.png": {
     "image/png": "[encoded data removed]"
    }
   },
   "cell_type": "markdown",
   "metadata": {},
   "source": [
    "# 插入图片方法\n",
    "## 1.选择cell格式为markdown\n",
    "## 2.Eidt-->Insert Image \n",
    "## 3.选择上传，并运行即可\n",
    "![Jupyter.png](attachment:Jupyter.png)"
   ]
  },
  {
   "cell_type": "markdown",
   "metadata": {
    "collapsed": true
   },
   "source": [
    "$$\\int_0^{+\\infty} x^2 dx$$"
   ]
  },
  {
   "cell_type": "code",
   "execution_count": 17,
   "metadata": {
    "collapsed": true
   },
   "outputs": [],
   "source": [
    "import matplotlib.pyplot as plt"
   ]
  },
  {
   "cell_type": "code",
   "execution_count": 18,
   "metadata": {},
   "outputs": [
    {
     "ename": "SyntaxError",
     "evalue": "invalid syntax (<ipython-input-18-fbb3c7e4291b>, line 1)",
     "output_type": "error",
     "traceback": [
      "\u001b[1;36m  File \u001b[1;32m\"<ipython-input-18-fbb3c7e4291b>\"\u001b[1;36m, line \u001b[1;32m1\u001b[0m\n\u001b[1;33m    brew install geos\u001b[0m\n\u001b[1;37m               ^\u001b[0m\n\u001b[1;31mSyntaxError\u001b[0m\u001b[1;31m:\u001b[0m invalid syntax\n"
     ]
    }
   ],
   "source": [
    "brew install geos\n",
    "pip3 install https://github.com/matplotlib/basemap/archive/v1.1.0.tar.gz"
   ]
  },
  {
   "cell_type": "code",
   "execution_count": 19,
   "metadata": {},
   "outputs": [
    {
     "data": {
      "text/plain": [
       "4"
      ]
     },
     "execution_count": 19,
     "metadata": {},
     "output_type": "execute_result"
    }
   ],
   "source": [
    "2+2"
   ]
  },
  {
   "cell_type": "code",
   "execution_count": 20,
   "metadata": {},
   "outputs": [
    {
     "data": {
      "text/plain": [
       "20"
      ]
     },
     "execution_count": 20,
     "metadata": {},
     "output_type": "execute_result"
    }
   ],
   "source": [
    "50-5*6"
   ]
  },
  {
   "cell_type": "code",
   "execution_count": null,
   "metadata": {
    "collapsed": true
   },
   "outputs": [],
   "source": []
  }
 ],
 "metadata": {
  "kernelspec": {
   "display_name": "Python 3",
   "language": "python",
   "name": "python3"
  },
  "language_info": {
   "codemirror_mode": {
    "name": "ipython",
    "version": 3
   },
   "file_extension": ".py",
   "mimetype": "text/x-python",
   "name": "python",
   "nbconvert_exporter": "python",
   "pygments_lexer": "ipython3",
   "version": "3.6.2"
  }
 },
 "nbformat": 4,
 "nbformat_minor": 2
}
